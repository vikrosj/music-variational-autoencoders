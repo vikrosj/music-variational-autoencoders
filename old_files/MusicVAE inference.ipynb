{
 "cells": [
  {
   "cell_type": "code",
   "execution_count": 1,
   "metadata": {},
   "outputs": [
    {
     "name": "stderr",
     "output_type": "stream",
     "text": [
      "Using TensorFlow backend.\n"
     ]
    }
   ],
   "source": [
    "from data_prep import one_hot_decode, get_bars_dataset\n",
    "import numpy as np\n",
    "from predictions import define_models,predict_sequence\n",
    "from music21 import converter, instrument, note, chord, stream, midi, environment\n",
    "%matplotlib inline\n",
    "\n",
    "from midi_handling import noteArrayToStream, switch_range\n",
    "from music21 import *\n",
    "environment.set(\"musescoreDirectPNGPath\", \"/usr/bin/musescore\")"
   ]
  },
  {
   "cell_type": "code",
   "execution_count": 2,
   "metadata": {},
   "outputs": [],
   "source": [
    "# Only for GPU use:\n",
    "#os.environ[\"CUDA_VISIBLE_DEVICES\"]=\"1\"\n",
    "\n",
    "\n",
    "import keras.backend as K\n",
    "import tensorflow as tf\n",
    "config = tf.ConfigProto()\n",
    "config.gpu_options.allow_growth = True\n",
    "sess = tf.Session(config=config)\n",
    "K.set_session(sess)"
   ]
  },
  {
   "cell_type": "code",
   "execution_count": 3,
   "metadata": {},
   "outputs": [],
   "source": [
    "# configure problem\n",
    "# configure problem\n",
    "weights_path = \"weights/512_64/weights-improvement-2455-1.00.hdf5\"\n",
    "\n",
    "MELODY_NOTE_OFF = 128 # (stop playing all previous notes)\n",
    "MELODY_NO_EVENT = 129 # (no change from previous event)\n",
    "\n",
    "# configure problem\n",
    "n_features = 131\n",
    "cardinality = 131\n",
    "timesteps = 16\n",
    "\n",
    "learning_rate = 0.0001\n",
    "\n",
    "n_encoder_units = 512\n",
    "n_decoder_units = n_encoder_units\n",
    "latent_dim = 64\n",
    "\n",
    "dropout=0.3\n",
    "\n",
    "beta=1\n",
    "epochs = 20000\n",
    "batch_size = 64\n",
    "num_training_samples = 10000\n",
    "num_validation_samples = 1000\n",
    "steps_per_epoch = int(num_training_samples / batch_size)\n",
    "validation_steps = int(num_validation_samples / batch_size)\n",
    "\n",
    "start_of_sequence = np.zeros(cardinality)\n",
    "start_of_sequence[cardinality-1] = 1"
   ]
  },
  {
   "cell_type": "code",
   "execution_count": 4,
   "metadata": {},
   "outputs": [],
   "source": [
    "# define model\n",
    "train, infenc, infdec = define_models(n_encoder_units=n_encoder_units,\n",
    "                                        n_decoder_units=n_decoder_units,\n",
    "                                        latent_dim=latent_dim, \n",
    "                                      timesteps=timesteps,\n",
    "                                      n_features=n_features,\n",
    "                                      learning_rate=learning_rate,\n",
    "                                        dropout=dropout,\n",
    "                                      beta=beta,\n",
    "                                        epsilon_std=1.)"
   ]
  },
  {
   "cell_type": "markdown",
   "metadata": {},
   "source": [
    "## Set weights"
   ]
  },
  {
   "cell_type": "code",
   "execution_count": 5,
   "metadata": {},
   "outputs": [
    {
     "name": "stdout",
     "output_type": "stream",
     "text": [
      "Loaded weights from disk\n"
     ]
    }
   ],
   "source": [
    "train.load_weights(weights_path)\n",
    "print(\"Loaded weights from disk\")\n",
    "\n",
    "all_weights = train.get_weights()\n",
    "decoder_position = len(infenc.get_weights())\n",
    "decoder_weights = all_weights[decoder_position::]\n",
    "encoder_weights = all_weights[:decoder_position]\n",
    "\n",
    "infenc.set_weights(encoder_weights)\n",
    "infdec.set_weights(decoder_weights)"
   ]
  },
  {
   "cell_type": "markdown",
   "metadata": {},
   "source": [
    "### Predict a sequence"
   ]
  },
  {
   "cell_type": "code",
   "execution_count": 6,
   "metadata": {},
   "outputs": [],
   "source": [
    "# Datasets\n",
    "np.random.seed(10)\n",
    "test_ID_list_dict = []\n",
    "ID_list = np.load(\"ID_lists/test_ID_list.npy\")\n",
    "\n",
    "test_list = ID_list.item().get(\"test_labels\")\n",
    "\n",
    "input_songs = []\n",
    "output_songs = []\n",
    "\n",
    "ID = test_list[500]\n",
    "encoder_input_before = np.load('encoder_inputs/' + ID + '.npy')\n",
    "encoder_input = encoder_input_before.reshape(1, timesteps, cardinality)    \n",
    "encoder_output = predict_sequence(infenc=infenc,\n",
    "                                  infdec=infdec,\n",
    "                                  source=encoder_input,\n",
    "                                  seq_len=160,\n",
    "                                  timesteps=timesteps,\n",
    "                                  n_decoder_units=n_decoder_units,\n",
    "                                  latent_dim=latent_dim,\n",
    "                                  temperature=1.5)\n",
    "\n",
    "input_songs.append(one_hot_decode(encoder_input_before))\n",
    "output_songs.append(one_hot_decode(encoder_output))"
   ]
  },
  {
   "cell_type": "code",
   "execution_count": 6,
   "metadata": {},
   "outputs": [],
   "source": [
    "output_songs = np.array(output_songs).flatten()\n",
    "\n",
    "melody_stream = noteArrayToStream(switch_range(list(np.ravel(output_songs))))\n",
    "\n",
    "#melody_stream.show()"
   ]
  },
  {
   "cell_type": "code",
   "execution_count": 7,
   "metadata": {},
   "outputs": [
    {
     "data": {
      "text/plain": [
       "array([129, 129, 129, 129, 129, 129, 129, 129, 129, 129, 129, 129, 129,\n",
       "       129,  30, 129, 129, 129,  40, 129, 128, 129, 129, 129, 129, 129,\n",
       "       129, 129, 128, 129, 129, 129, 129, 129, 129, 129, 129, 129, 129,\n",
       "       129, 129, 129, 129, 129, 129, 129, 129, 129, 129, 129, 129, 129,\n",
       "       129, 129, 129, 129, 129, 129, 129, 129, 129, 129, 129, 129, 129,\n",
       "       129, 129, 129, 129, 129, 129, 129, 129, 129, 129, 129, 129, 129,\n",
       "       129, 129, 129, 129, 129, 129, 129, 129, 129, 129, 129, 129, 129,\n",
       "       129, 129, 129, 129, 129, 129, 129, 129, 129, 129, 129, 129, 129,\n",
       "       129, 129, 129, 129, 129, 129, 129, 129, 129, 129, 129, 129, 129,\n",
       "       129, 129, 129, 129, 129, 129, 129, 129, 129, 129, 129, 129, 129,\n",
       "       129, 129, 129, 129, 129, 129, 129, 129, 129, 129, 129, 129, 129,\n",
       "       129, 129, 129, 129, 129, 129, 129, 129, 129, 129, 129, 129, 129,\n",
       "       129, 129, 129, 129])"
      ]
     },
     "execution_count": 7,
     "metadata": {},
     "output_type": "execute_result"
    }
   ],
   "source": [
    "switch_range(np.ravel(output_songs))"
   ]
  },
  {
   "cell_type": "markdown",
   "metadata": {},
   "source": [
    "### Predict a song"
   ]
  },
  {
   "cell_type": "code",
   "execution_count": null,
   "metadata": {},
   "outputs": [],
   "source": [
    "#np.random.seed(10)\n",
    "\n",
    "song_from_file = np.load(\"songs_encoder_inputs/id-2000.npy\")\n",
    "song_len = song_from_file.shape[0]\n",
    "\n",
    "# reshaping to work as input to lstm\n",
    "song = np.array(song_from_file).reshape(song_len, timesteps, cardinality)\n",
    "\n",
    "orig_song = []\n",
    "pred_song = []\n",
    "    \n",
    "for bar in song:\n",
    "    encoder_input = bar.reshape(1, timesteps, cardinality)\n",
    "    encoder_output = predict_sequence(infenc=infenc,\n",
    "                                  infdec=infdec,\n",
    "                                  source=encoder_input,\n",
    "                                  seq_len=16,\n",
    "                                  timesteps=16,\n",
    "                                  latent_dim=latent_dim,\n",
    "                                  temperature=1.2)\n",
    "\n",
    "    orig_song.append(one_hot_decode(encoder_input.reshape(timesteps, cardinality)))\n",
    "    pred_song.append(one_hot_decode(encoder_output.reshape(timesteps, cardinality)))"
   ]
  },
  {
   "cell_type": "code",
   "execution_count": null,
   "metadata": {},
   "outputs": [],
   "source": [
    "len(orig_song), len(pred_song)"
   ]
  },
  {
   "cell_type": "code",
   "execution_count": null,
   "metadata": {},
   "outputs": [],
   "source": [
    "np.ravel(switch_range(pred_song))"
   ]
  },
  {
   "cell_type": "code",
   "execution_count": null,
   "metadata": {},
   "outputs": [],
   "source": [
    "#np.isclose(orig_song, pred_song, rtol=0.1)\n",
    "\n",
    "melody_stream = noteArrayToStream(switch_range(list(np.ravel(pred_song))))\n",
    "\n",
    "melody_stream.show()"
   ]
  },
  {
   "cell_type": "code",
   "execution_count": null,
   "metadata": {},
   "outputs": [],
   "source": []
  }
 ],
 "metadata": {
  "kernelspec": {
   "display_name": "Python 3",
   "language": "python",
   "name": "python3"
  },
  "language_info": {
   "codemirror_mode": {
    "name": "ipython",
    "version": 3
   },
   "file_extension": ".py",
   "mimetype": "text/x-python",
   "name": "python",
   "nbconvert_exporter": "python",
   "pygments_lexer": "ipython3",
   "version": "3.5.2"
  }
 },
 "nbformat": 4,
 "nbformat_minor": 2
}
