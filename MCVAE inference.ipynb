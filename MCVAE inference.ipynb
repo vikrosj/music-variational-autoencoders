{
 "cells": [
  {
   "cell_type": "markdown",
   "metadata": {},
   "source": [
    "### imports"
   ]
  },
  {
   "cell_type": "code",
   "execution_count": 1,
   "metadata": {},
   "outputs": [
    {
     "name": "stderr",
     "output_type": "stream",
     "text": [
      "Using TensorFlow backend.\n"
     ]
    }
   ],
   "source": [
    "from modules.models import define_VAE, define_MM\n",
    "from modules.variables import HDVariables\n",
    "from keras.utils import plot_model\n",
    "import h5py\n",
    "import numpy as np\n",
    "import keras"
   ]
  },
  {
   "cell_type": "markdown",
   "metadata": {},
   "source": [
    "### get variables from hard drive\n",
    "\n",
    "Variables are saved when training the MCVAE, and all are accessed via the \n",
    "HDVariables class."
   ]
  },
  {
   "cell_type": "code",
   "execution_count": 2,
   "metadata": {},
   "outputs": [],
   "source": [
    "hd_var = HDVariables()"
   ]
  },
  {
   "cell_type": "markdown",
   "metadata": {},
   "source": [
    "### define best VAE weights path"
   ]
  },
  {
   "cell_type": "code",
   "execution_count": 3,
   "metadata": {},
   "outputs": [],
   "source": [
    "vae_weights_path = \"weights/\" + \"test_run-99-0.80.hdf5\""
   ]
  },
  {
   "cell_type": "markdown",
   "metadata": {},
   "source": [
    "### define VAE and set weights"
   ]
  },
  {
   "cell_type": "code",
   "execution_count": 6,
   "metadata": {},
   "outputs": [
    {
     "name": "stdout",
     "output_type": "stream",
     "text": [
      "Loaded VAE weights from disk\n",
      "Set VAE weights\n"
     ]
    }
   ],
   "source": [
    "# define model\n",
    "vae_full, vae_enc, vae_dec = define_VAE(enc_units = int(hd_var.enc_units),\n",
    "                                        dec_units = int(hd_var.dec_units),\n",
    "                                        latent_units = int(hd_var.latent_units),\n",
    "                                        timesteps = int(hd_var.timesteps),\n",
    "                                        features = int(hd_var.features),\n",
    "                                        dropout = float(hd_var.dropout),\n",
    "                                        beta = float(hd_var.beta),\n",
    "                                        learning_rate = float(hd_var.learning_rate),\n",
    "                                        epsilon_std = float(hd_var.epsilon_std))\n",
    "\n",
    "vae_full.load_weights(vae_weights_path)\n",
    "print(\"Loaded VAE weights from disk\")\n",
    "\n",
    "# get all weights\n",
    "all_weights = vae_full.get_weights()\n",
    "\n",
    "# find encoder weights position\n",
    "decoder_position = len(vae_enc.get_weights())\n",
    "decoder_weights = all_weights[decoder_position::]\n",
    "encoder_weights = all_weights[:decoder_position]\n",
    "\n",
    "# set encoder weights\n",
    "vae_enc.set_weights(encoder_weights)\n",
    "vae_dec.set_weights(decoder_weights)\n",
    "print(\"Set VAE weights\")"
   ]
  },
  {
   "cell_type": "markdown",
   "metadata": {},
   "source": [
    "### setup GPU "
   ]
  },
  {
   "cell_type": "code",
   "execution_count": 4,
   "metadata": {},
   "outputs": [],
   "source": [
    "import os\n",
    "import tensorflow as tf\n",
    "import keras.backend as K\n",
    "\n",
    "# Only for GPU use:\n",
    "os.environ[\"CUDA_VISIBLE_DEVICES\"]=\"1\"\n",
    "config = tf.ConfigProto()\n",
    "config.gpu_options.allow_growth = True\n",
    "sess = tf.Session(config=config)\n",
    "K.set_session(sess)"
   ]
  },
  {
   "cell_type": "markdown",
   "metadata": {},
   "source": [
    "# Predict VAE sequence"
   ]
  },
  {
   "cell_type": "code",
   "execution_count": 47,
   "metadata": {},
   "outputs": [],
   "source": [
    "from modules.predictions import predict_VAE_sequence\n",
    "from modules.data_prep import VAEdataPrep\n",
    "\n",
    "dataPrep = VAEdataPrep(int(hd_var.timesteps), int(hd_var.features))\n",
    "\n",
    "# for reproducability\n",
    "np.random.seed(10)\n",
    "\n",
    "\n",
    "# test set \n",
    "test_IDs = []\n",
    "ID_list = np.load(str(hd_var.generator_IDs_file))\n",
    "test_list = ID_list.item().get(\"test\")\n",
    "\n",
    "\n",
    "input_songs = []\n",
    "output_songs = []\n",
    "\n",
    "ID = test_list[20]\n",
    "encoder_input_tmp = np.load(str(hd_var.encoder_dir) + \"/\" + ID + '.npy')\n",
    "encoder_input = encoder_input_tmp.reshape(1, int(hd_var.timesteps), int(hd_var.features))\n",
    "\n",
    "encoder_output = predict_VAE_sequence(infenc = vae_enc,\n",
    "                                  infdec = vae_dec,\n",
    "                                  source = encoder_input,\n",
    "                                  seq_len = 400,\n",
    "                                  timesteps = int(hd_var.timesteps),\n",
    "                                  n_decoder_units = int(hd_var.dec_units),\n",
    "                                  latent_dim = int(hd_var.latent_units),\n",
    "                                  temperature = 1)\n",
    "\n",
    "input_songs.append(dataPrep.one_hot_decode(encoder_input_tmp))\n",
    "output_songs.append(dataPrep.one_hot_decode(encoder_output))"
   ]
  },
  {
   "cell_type": "code",
   "execution_count": 26,
   "metadata": {},
   "outputs": [
    {
     "name": "stdout",
     "output_type": "stream",
     "text": [
      "Input sequence\n",
      "[ 36 129 129 129 129 128  36 128  31 129 129 128  36 129 129 128]\n",
      "\n",
      "\n",
      " Predicted sequence\n",
      "[129 129 129 129  31 129 129 128 129 129 129 129 128 129 128 129  33 129\n",
      " 128 129 128 129  38 129  31 129 129 128 129 128 129  26 129 128 128  26\n",
      " 128 129 128 129  42 129 128 129 128 129  30 128 128 129  42 128  16 128\n",
      " 116 128 128  12 128  32 128 122 128 123 128  64 128  35 128  14 128  99\n",
      "  33  31 128 128 110  86 128  11 128 123 128  35  78 128  95 128  54 128\n",
      " 115  78  47 128  95 128 128  97 128  41 128  30 128  42 128  86 128 114\n",
      " 128  24 128 116 128 110 128  39 128  24 128  12 128  42 128  22 128 122\n",
      " 128  13 128  14 128  83 128  82 128  78 128 109 128  63 128  30 128  61\n",
      " 128   3 128  15 128  43 128  49 128  44 128  72 128  84 128  51 128 118\n",
      " 128  69 128  68 128  57 128  62 128  37 128  87 128  84 128  33 128  79\n",
      " 128  96 128  60 128 126  70 128  57 128  70 128 128  69 128  61 128  39\n",
      " 128  54 128  44 128  66 128  60 128  73 128  70 128  42 128  67 128  74\n",
      " 128  93 128  78 128  86 128  66 128  67 128  86 128  69 128  55 128  45\n",
      " 128  84 128  34 128  43 128  31 128  75 128  39 128  30 128  65 128  87\n",
      " 128  35 128  68 128  58 128  28 128 129 128  34 128  73 128  27 128  97\n",
      " 128  83 128  39  44  69  34 128  90 128  72  88  73 128 109 128 102 128\n",
      " 129  82 128  55 128  73 128  54 128 128 102 128  97 128  23 128 129  45\n",
      " 128  42 128  37 128  33 128  29 128  34 128  45 128  31 128  36  78 128\n",
      " 128  38 128   2 128  42 128  48 128  28 128  13 128  42  28  42 128  34\n",
      " 128 128  57 128  74 128  40 128 125 128 128  35 128  68  16 128  54 128\n",
      "  51 128  20 128  35 128  40 128 128  37 128  38 128  42 128  81 128  79\n",
      " 128  26  78 128  39 128 128  86 128  71 128 130  78 128  22 128  28 128\n",
      "  28 128  57 128]\n"
     ]
    }
   ],
   "source": [
    "print(\"Input sequence\")\n",
    "print(np.ravel(input_songs))\n",
    "\n",
    "print(\"\\n\\n\",\"Predicted sequence\")\n",
    "print(np.ravel(output_songs))"
   ]
  },
  {
   "cell_type": "markdown",
   "metadata": {},
   "source": [
    "# Predict song with VAE"
   ]
  },
  {
   "cell_type": "code",
   "execution_count": 37,
   "metadata": {},
   "outputs": [],
   "source": [
    "np.random.seed(10)\n",
    "\n",
    "# song set \n",
    "song_IDs = []\n",
    "ID_list = np.load(str(hd_var.songs_ID_file))\n",
    "test_list = ID_list.item().get(\"test\")\n",
    "\n",
    "ID = test_list[20]\n",
    "song = np.load(str(hd_var.encoder_dir_songs) + \"/\" + ID + '.npy')\n",
    "\n",
    "orig_song = []\n",
    "pred_song = []\n",
    "    \n",
    "for bar in song:\n",
    "    encoder_input = bar.reshape(1, int(hd_var.timesteps), int(hd_var.features))\n",
    "    encoder_output = predict_VAE_sequence(infenc = vae_enc,\n",
    "                                  infdec = vae_dec,\n",
    "                                  source = encoder_input,\n",
    "                                  seq_len = int(hd_var.timesteps),\n",
    "                                  timesteps = int(hd_var.timesteps),\n",
    "                                  n_decoder_units = int(hd_var.dec_units),\n",
    "                                  latent_dim = int(hd_var.latent_units),\n",
    "                                  temperature = 1)\n",
    "\n",
    "\n",
    "    orig_song.append(dataPrep.one_hot_decode(encoder_input.reshape(int(hd_var.timesteps), int(hd_var.features))))\n",
    "    pred_song.append(dataPrep.one_hot_decode(encoder_output.reshape(int(hd_var.timesteps), int(hd_var.features))))"
   ]
  },
  {
   "cell_type": "code",
   "execution_count": 40,
   "metadata": {},
   "outputs": [
    {
     "name": "stdout",
     "output_type": "stream",
     "text": [
      "Original song\n",
      "\n",
      "\n",
      " Predicted song\n"
     ]
    }
   ],
   "source": [
    "print(\"Original song\")\n",
    "#print(np.ravel(orig_song))\n",
    "\n",
    "print(\"\\n\\n\",\"Predicted song\")\n",
    "#print(np.ravel(pred_song))"
   ]
  },
  {
   "cell_type": "markdown",
   "metadata": {},
   "source": [
    "### define MDN decoder"
   ]
  },
  {
   "cell_type": "code",
   "execution_count": 43,
   "metadata": {},
   "outputs": [],
   "source": [
    "from modules.models import define_MM\n",
    "_, mdn_dec = define_MM(seq_len = int(hd_var.mdn_seq_len),\n",
    "                    vae_latent_units = int(hd_var.latent_units),\n",
    "                    hidden_units = int(hd_var.mdn_hidden_units),\n",
    "                    number_mixtures = int(hd_var.number_mixtures))"
   ]
  },
  {
   "cell_type": "markdown",
   "metadata": {},
   "source": [
    "# Predict song with MCVAE"
   ]
  },
  {
   "cell_type": "code",
   "execution_count": 60,
   "metadata": {},
   "outputs": [],
   "source": [
    "from modules.mdn import sample_from_output\n",
    "from modules.predictions import predict_z, mdn_predict_sequence\n",
    "\n",
    "# test set \n",
    "test_IDs = []\n",
    "ID_list = np.load(str(hd_var.generator_IDs_file))\n",
    "test_list = ID_list.item().get(\"test\")\n",
    "\n",
    "ID = test_list[20]\n",
    "encoder_input_tmp = np.load(str(hd_var.encoder_dir) + \"/\" + ID + '.npy')\n",
    "encoder_input = encoder_input_tmp.reshape(1, int(hd_var.timesteps), int(hd_var.features))\n",
    "\n",
    "\n",
    "z = predict_z(infenc = vae_enc, source = encoder_input, latent_dim=int(hd_var.latent_units))\n",
    "\n",
    "mdn_song = []\n",
    "\n",
    "for i in range(25):\n",
    "\n",
    "    params = mdn_dec.predict(z.reshape(1,1,int(hd_var.latent_units)))\n",
    "    z = sample_from_output(params[0], int(hd_var.latent_units), int(hd_var.number_mixtures), temp=1)\n",
    "    song = mdn_predict_sequence(infdec = vae_dec,\n",
    "                                 z = z,\n",
    "                                 latent_dim = int(hd_var.latent_units),\n",
    "                                 seq_len = int(hd_var.mdn_seq_len),\n",
    "                                 temperature = 0.2,\n",
    "                                 n_decoder_units = int(hd_var.dec_units))\n",
    "\n",
    "    mdn_song.append(dataPrep.one_hot_decode(song.reshape(int(hd_var.mdn_seq_len), int(hd_var.features))))"
   ]
  },
  {
   "cell_type": "code",
   "execution_count": 61,
   "metadata": {},
   "outputs": [
    {
     "name": "stdout",
     "output_type": "stream",
     "text": [
      "Input sequence\n",
      "[ 36 129 129 129 129 128  36 128  31 129 129 128  36 129 129 128]\n",
      "\n",
      "\n",
      " Predicted sequence\n",
      "[124 119  76  67 111  96   6  17   8   2  83 113 120 110  17  35 122  39\n",
      " 109 108 112 107 108 100  28  99 108  44  20 120  48  60 113  56  27 125\n",
      "  47  76  38 117  34  28   1  32 100  41  60  21  49  86  84 122  16  13\n",
      " 120  17  43  74 130 111  67  33  44  23 116  86   0  70 120  42  68  70\n",
      "  44  32   0  42  38  38  70  51   3  29  57 106  13  13  95  82  71 122\n",
      " 104  63  44 118  43  66  76  72  20 102  72  30  46   6 118 118  82 123\n",
      "  33  32  57 114 125  44 101  50  20  58  89  79  72   5  62  42   8  70\n",
      "   2   4  42 112  61  38   1  25  63  97  25  82 108  87  38  60  40 101\n",
      "  11  33 129 124  31 110  84 109  54 117  22   8 101  95  78  84  32  59\n",
      " 130 112  89  95  68  37  98  59 122 100 122  89 129  43 124  13  63   7\n",
      " 119  40 116  15  24  73  40 113 116  76  17 103  13 123  29 109  35  55\n",
      "  58  39  58  92  34  38  18 100  78  28  82  88   0  76 115  43 119  57\n",
      "  89  75  90 103  52 117  49  55  52  34  45 129  88  99 128  88  35  79\n",
      "  73 122  80  89 108  97  73  80  88  95  80  83 113  62  41  14]\n"
     ]
    }
   ],
   "source": [
    "print(\"Input sequence\")\n",
    "print(np.ravel(dataPrep.one_hot_decode_song(encoder_input)))\n",
    "\n",
    "print(\"\\n\\n\",\"Predicted sequence\")\n",
    "print(np.ravel(mdn_song))"
   ]
  },
  {
   "cell_type": "markdown",
   "metadata": {},
   "source": [
    "# Last step\n",
    "\n",
    "This is where the MCVAE gets z-1 and predicts z.\n",
    "Will be finished in the end of January."
   ]
  },
  {
   "cell_type": "code",
   "execution_count": null,
   "metadata": {},
   "outputs": [],
   "source": []
  }
 ],
 "metadata": {
  "kernelspec": {
   "display_name": "Python 3",
   "language": "python",
   "name": "python3"
  },
  "language_info": {
   "codemirror_mode": {
    "name": "ipython",
    "version": 3
   },
   "file_extension": ".py",
   "mimetype": "text/x-python",
   "name": "python",
   "nbconvert_exporter": "python",
   "pygments_lexer": "ipython3",
   "version": "3.5.2"
  }
 },
 "nbformat": 4,
 "nbformat_minor": 2
}
