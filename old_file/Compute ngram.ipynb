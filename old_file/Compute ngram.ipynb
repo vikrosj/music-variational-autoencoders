{
 "cells": [
  {
   "cell_type": "code",
   "execution_count": 3,
   "metadata": {},
   "outputs": [],
   "source": [
    "import nltk\n",
    "from collections import Counter\n",
    "from nltk.util import ngrams\n",
    "import numpy as np\n",
    "from data_prep import one_hot_decode\n",
    "import h5py\n",
    "from itertools import chain\n",
    "from collections import defaultdict\n",
    "import os\n",
    "import tqdm\n",
    "from math import log"
   ]
  },
  {
   "cell_type": "code",
   "execution_count": 4,
   "metadata": {},
   "outputs": [],
   "source": [
    "def word_grams(words, n=5):\n",
    "    s = []\n",
    "\n",
    "    for ngram in ngrams(words, n):\n",
    "        s.append(' '.join(str(i) for i in ngram))\n",
    "    return s\n",
    "\n",
    "def int_list_to_str(input_list):\n",
    "    int_string = \",\".join(str(i) for i in input_list)\n",
    "    \n",
    "    return int_string"
   ]
  },
  {
   "cell_type": "code",
   "execution_count": 5,
   "metadata": {},
   "outputs": [],
   "source": [
    "defdict5 = defaultdict(list)\n",
    "defdict4 = defaultdict(list)\n",
    "\n",
    "with h5py.File(\"h5_files/songs_post.h5\", \"r\") as hf:\n",
    "    \n",
    "    no_songs = len(list(hf.keys()))\n",
    "\n",
    "    for j in range(no_songs):\n",
    "        song = np.array(hf.get(str(j)))\n",
    "\n",
    "        for i in range(song.shape[0]):\n",
    "            bar = one_hot_decode(song[i])\n",
    "\n",
    "            bar_string = \",\".join(str(i) for i in bar)\n",
    "            \n",
    "            \n",
    "            # collect pentagram\n",
    "            bar_5gram = word_grams(bar_string.split(\",\"), n=5)\n",
    "            \n",
    "            gram5_dict = dict(Counter(bar_5gram))\n",
    "            \n",
    "            for k, v in gram5_dict.items():\n",
    "                defdict5[k].append(v)\n",
    "\n",
    "            \n",
    "            # collect quadgram\n",
    "            bar_4gram = word_grams(bar_string.split(\",\"), n=4)\n",
    "            \n",
    "            gram4_dict = dict(Counter(bar_4gram))\n",
    "            \n",
    "            for k, v in gram4_dict.items():\n",
    "                defdict4[k].append(v)\n"
   ]
  },
  {
   "cell_type": "code",
   "execution_count": 6,
   "metadata": {},
   "outputs": [],
   "source": [
    "# reducing lists of values to one sum\n",
    "for key, value in defdict4.items():\n",
    "    defdict4[key] = sum(value)\n",
    "    \n",
    "# reducing lists of values to one sum\n",
    "for key, value in defdict5.items():\n",
    "    defdict5[key] = sum(value)"
   ]
  },
  {
   "cell_type": "code",
   "execution_count": 7,
   "metadata": {},
   "outputs": [],
   "source": [
    "# storing each 5gram and 4gram with corresponding value to file\n",
    "cfile = h5py.File(\"h5_files/ngram_songs_post(orig_range).h5\", \"w\")\n",
    "\n",
    "for k,v in defdict5.items():\n",
    "    cfile.create_dataset(k, data=np.array(v).reshape(1,1))"
   ]
  },
  {
   "cell_type": "code",
   "execution_count": 8,
   "metadata": {},
   "outputs": [],
   "source": [
    "for k,v in defdict4.items():   \n",
    "    cfile.create_dataset(k, data=np.array(v).reshape(1,1))"
   ]
  },
  {
   "cell_type": "code",
   "execution_count": 9,
   "metadata": {},
   "outputs": [],
   "source": [
    "cfile.close()"
   ]
  },
  {
   "cell_type": "markdown",
   "metadata": {},
   "source": [
    "## Compute ngrams pre and post processing song inputs\n",
    "\n",
    "# Pre:"
   ]
  },
  {
   "cell_type": "code",
   "execution_count": null,
   "metadata": {},
   "outputs": [],
   "source": [
    "n_unique = 130\n",
    "\n",
    "with h5py.File(\"h5_files/5gram_songs.h5\", \"r\") as hf:\n",
    "    a = [129,129,129,129,129,6,7,8,1,2,3,4,5,6,7,8,9,]\n",
    "\n",
    "    b = word_grams(int_list_to_str(a).split(\",\"))\n",
    "    \n",
    "    for i in range(2):\n",
    "        \n",
    "        try:\n",
    "            print(log( list(hf.get(b[i]))[0][0] / N ) )\n",
    "            \n",
    "        except TypeError: \n",
    "            print( log(1) )"
   ]
  },
  {
   "cell_type": "code",
   "execution_count": null,
   "metadata": {},
   "outputs": [],
   "source": [
    "a = [[94, 129, 68, 53, 129, 63, 129, 1, 129, 69, 52, 129, 127, 129, 115, 129],\n",
    "[16, 129, 29, 129, 42, 129, 128, 57, 128, 40, 129, 128, 129, 128, 129, 128],\n",
    "[29, 129, 105, 81, 129, 83, 129, 40, 129, 128, 129, 64, 129, 93, 58, 128],\n",
    "[69, 128, 129, 69, 129, 128, 77, 129, 63, 129, 111, 129, 40, 129, 128, 61],\n",
    "[128, 129, 82, 129, 0, 129, 17, 129, 25, 129, 128, 74, 128, 0, 129, 14],\n",
    "[128, 129, 81, 63, 129, 66, 84, 129, 84, 129, 128, 129, 115, 129, 85, 129],\n",
    "[128, 79, 129, 98, 129, 109, 129, 64, 129, 115, 129, 88, 129, 52, 69, 128],\n",
    "[67, 129, 129, 69, 84, 129, 9, 129, 20, 129, 94, 128, 129, 128, 77, 128],\n",
    "[72, 129, 85, 129, 68, 129, 102, 129, 22, 129, 20, 128, 61, 128, 129, 39],\n",
    "[42, 129, 40, 129, 14, 128, 129, 71, 129, 129, 80, 129, 14, 41, 129, 41]]"
   ]
  },
  {
   "cell_type": "code",
   "execution_count": null,
   "metadata": {},
   "outputs": [],
   "source": [
    "b = switch_range(np.ravel(a))\n",
    "b"
   ]
  },
  {
   "cell_type": "code",
   "execution_count": null,
   "metadata": {},
   "outputs": [],
   "source": []
  }
 ],
 "metadata": {
  "kernelspec": {
   "display_name": "Python 3",
   "language": "python",
   "name": "python3"
  },
  "language_info": {
   "codemirror_mode": {
    "name": "ipython",
    "version": 3
   },
   "file_extension": ".py",
   "mimetype": "text/x-python",
   "name": "python",
   "nbconvert_exporter": "python",
   "pygments_lexer": "ipython3",
   "version": "3.5.2"
  }
 },
 "nbformat": 4,
 "nbformat_minor": 2
}
