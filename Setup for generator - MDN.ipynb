{
 "cells": [
  {
   "cell_type": "code",
   "execution_count": 1,
   "metadata": {},
   "outputs": [],
   "source": [
    "import numpy as np\n",
    "import os\n",
    "import h5py"
   ]
  },
  {
   "cell_type": "code",
   "execution_count": 3,
   "metadata": {},
   "outputs": [
    {
     "name": "stdout",
     "output_type": "stream",
     "text": [
      "54415\n"
     ]
    }
   ],
   "source": [
    "hf_mdn = h5py.File('h5_files/mdn_dataset_pre.h5', 'r')\n",
    "\n",
    "size_of_dataset = len(list(hf_mdn.keys()))//2\n",
    "\n",
    "hf_mdn.close()\n",
    "\n",
    "training_set_size_tmp = 2 * size_of_dataset // 3\n",
    "validation_set_size = training_set_size_tmp // 3\n",
    "training_set_size = training_set_size_tmp - validation_set_size\n",
    "\n",
    "test_set_size = int(size_of_dataset - training_set_size_tmp)\n",
    "\n",
    "training_set_size, validation_set_size, test_set_size\n",
    "\n",
    "print(size_of_dataset)"
   ]
  },
  {
   "cell_type": "markdown",
   "metadata": {},
   "source": [
    "### Dictionaries"
   ]
  },
  {
   "cell_type": "code",
   "execution_count": 4,
   "metadata": {},
   "outputs": [],
   "source": [
    "inputs = {}\n",
    "test = {}"
   ]
  },
  {
   "cell_type": "markdown",
   "metadata": {},
   "source": [
    "### ID lists"
   ]
  },
  {
   "cell_type": "code",
   "execution_count": 5,
   "metadata": {},
   "outputs": [],
   "source": [
    "training_IDs = ['id-'+str(i) for i in range(training_set_size)]\n",
    "validation_IDs = ['id-'+str(i+training_set_size) for i in range(validation_set_size)]\n",
    "test_IDs = ['id-'+str(i+training_set_size+validation_set_size) for i in range(test_set_size)]"
   ]
  },
  {
   "cell_type": "code",
   "execution_count": 6,
   "metadata": {},
   "outputs": [
    {
     "data": {
      "text/plain": [
       "('id-24183', 'id-24184', 'id-36275', 'id-36276')"
      ]
     },
     "execution_count": 6,
     "metadata": {},
     "output_type": "execute_result"
    }
   ],
   "source": [
    "training_IDs[-1], validation_IDs[0],validation_IDs[-1], test_IDs[0]"
   ]
  },
  {
   "cell_type": "markdown",
   "metadata": {},
   "source": [
    "### Filling in"
   ]
  },
  {
   "cell_type": "code",
   "execution_count": 7,
   "metadata": {},
   "outputs": [],
   "source": [
    "inputs[\"train\"] = training_IDs\n",
    "inputs[\"validation\"] = validation_IDs"
   ]
  },
  {
   "cell_type": "code",
   "execution_count": 8,
   "metadata": {},
   "outputs": [],
   "source": [
    "np.save(\"ID_lists/mdn_ID_list_pre.npy\", inputs)"
   ]
  },
  {
   "cell_type": "code",
   "execution_count": 9,
   "metadata": {},
   "outputs": [],
   "source": [
    "test[\"test_labels\"] = test_IDs\n",
    "np.save(\"ID_lists/mdn_test_ID_list_pre.npy\", test)"
   ]
  },
  {
   "cell_type": "code",
   "execution_count": null,
   "metadata": {},
   "outputs": [],
   "source": []
  }
 ],
 "metadata": {
  "kernelspec": {
   "display_name": "Python 3",
   "language": "python",
   "name": "python3"
  },
  "language_info": {
   "codemirror_mode": {
    "name": "ipython",
    "version": 3
   },
   "file_extension": ".py",
   "mimetype": "text/x-python",
   "name": "python",
   "nbconvert_exporter": "python",
   "pygments_lexer": "ipython3",
   "version": "3.5.2"
  }
 },
 "nbformat": 4,
 "nbformat_minor": 2
}
