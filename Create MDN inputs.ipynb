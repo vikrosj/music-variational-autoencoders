{
 "cells": [
  {
   "cell_type": "code",
   "execution_count": 1,
   "metadata": {},
   "outputs": [
    {
     "name": "stderr",
     "output_type": "stream",
     "text": [
      "Using TensorFlow backend.\n"
     ]
    }
   ],
   "source": [
    "import numpy as np\n",
    "import os\n",
    "import matplotlib.pyplot as plt\n",
    "from keras.models import model_from_json\n",
    "from tqdm import tqdm\n",
    "import h5py\n",
    "from data_prep import one_hot_decode\n",
    "\n",
    "timesteps = 16\n",
    "cardinality = 131\n",
    "latent_dim = 64\n",
    "avg_song_len = 113"
   ]
  },
  {
   "cell_type": "markdown",
   "metadata": {},
   "source": [
    "### Some details\n",
    "\n",
    "The MDN will predict sequences of bars, and the sequences must be equal. Therefore, some preparation must be done. Some songs in the dataset are long and some songs are short, this calls for some decisions to be made.  \n",
    "  \n",
    "Here's the solution:  \n",
    "An [average song length](url=https://www.statcrunch.com/5.0/viewreport.php?groupid=948&reportid=28647) is 226 seconds.  \n",
    "  \n",
    "The [average bpm](url=https://learningmusic.ableton.com/make-beats/tempo-and-genre.html) for a song is 120. \n",
    "\n",
    "The [semiquaver length](url=http://bradthemad.org/guitar/tempo_explanation.php) is 15 / bpm.  \n",
    "  \n",
    "15 / 120 = 0.125 seconds per semiquaver  \n",
    "0.125 * 16 notes per vector = 2 seconds per bar   \n",
    "226 / 2 = 113 bars per song.  \n",
    " \n",
    "  \n",
    "#### But first, let's remove empty lists and too long songs."
   ]
  },
  {
   "cell_type": "code",
   "execution_count": 2,
   "metadata": {},
   "outputs": [],
   "source": [
    "song_lengths = []\n",
    "for path, dirs, files in os.walk(\"songs_encoder_inputs\"):\n",
    "    for file in files:\n",
    "        song_len = len(np.load(path + os.sep + file))\n",
    "        \n",
    "        # Removing songs shorter than one bar\n",
    "        if song_len == 0: \n",
    "            os.remove(path + os.sep + file)\n",
    "            print(\"Removing empty list.\")\n",
    "            \n",
    "        elif song_len > 3 * avg_song_len:\n",
    "            os.remove(path + os.sep + file)\n",
    "            print(\"Song too long. {} bars. Removing.\".format(song_len))\n",
    "            \n",
    "        else: song_lengths.append(song_len)"
   ]
  },
  {
   "cell_type": "markdown",
   "metadata": {},
   "source": [
    "### Visualize the data"
   ]
  },
  {
   "cell_type": "code",
   "execution_count": 3,
   "metadata": {},
   "outputs": [
    {
     "data": {
      "image/png": "[encoded data removed]",
      "text/plain": [
       "<Figure size 432x288 with 1 Axes>"
      ]
     },
     "metadata": {
      "needs_background": "light"
     },
     "output_type": "display_data"
    }
   ],
   "source": [
    "plt.hist(song_lengths,bins=100) \n",
    "plt.title(\"Histogram of bar lengths.\")\n",
    "plt.ylabel(\"No. of items\")\n",
    "plt.xlabel(\"Bar length\")\n",
    "plt.xlim(min(song_lengths),max(song_lengths))\n",
    "plt.show()"
   ]
  },
  {
   "cell_type": "markdown",
   "metadata": {},
   "source": [
    "## Loading model and weights"
   ]
  },
  {
   "cell_type": "code",
   "execution_count": 4,
   "metadata": {},
   "outputs": [
    {
     "name": "stdout",
     "output_type": "stream",
     "text": [
      "Loaded infenc model and weights from disk\n",
      "Loaded infdec model and weights from disk\n"
     ]
    }
   ],
   "source": [
    "# load json and create model\n",
    "json_file = open('models/encoder_512_64.json', 'r')\n",
    "loaded_infenc = json_file.read()\n",
    "json_file.close()\n",
    "\n",
    "infenc = model_from_json(loaded_infenc)\n",
    "\n",
    "# load weights into new model\n",
    "infenc.load_weights(\"models/encoder_512_64.h5\")\n",
    "print(\"Loaded infenc model and weights from disk\")\n",
    "\n",
    "\n",
    "json_file = open('models/decoder_512_64.json', 'r')\n",
    "loaded_infdec = json_file.read()\n",
    "json_file.close()\n",
    "\n",
    "infdec = model_from_json(loaded_infdec)\n",
    "\n",
    "# load weights into new model\n",
    "infdec.load_weights(\"models/decoder_512_64.h5\")\n",
    "print(\"Loaded infdec model and weights from disk\")"
   ]
  },
  {
   "cell_type": "markdown",
   "metadata": {},
   "source": [
    "### Get no of files"
   ]
  },
  {
   "cell_type": "code",
   "execution_count": null,
   "metadata": {},
   "outputs": [
    {
     "data": {
      "text/plain": [
       "9786"
      ]
     },
     "execution_count": 5,
     "metadata": {},
     "output_type": "execute_result"
    }
   ],
   "source": [
    "path, dirs, files = next(os.walk(\"songs_encoder_inputs\"))\n",
    "file_count = len(files)\n",
    "\n",
    "file_count"
   ]
  },
  {
   "cell_type": "markdown",
   "metadata": {},
   "source": [
    "### Check the data"
   ]
  },
  {
   "cell_type": "code",
   "execution_count": null,
   "metadata": {},
   "outputs": [
    {
     "name": "stdout",
     "output_type": "stream",
     "text": [
      "Shape of first song file:  (54, 16, 131)\n",
      "No. of slices:  54\n",
      "Timesteps:  16\n",
      "One encoded note:  [0. 0. 0. 0. 0. 0. 0. 0. 0. 0. 0. 0. 0. 0. 0. 0. 0. 0. 0. 0. 0. 0. 0. 0.\n",
      " 0. 0. 0. 0. 0. 0. 0. 0. 0. 0. 0. 0. 0. 0. 0. 0. 0. 0. 0. 0. 0. 0. 0. 0.\n",
      " 0. 0. 0. 0. 0. 0. 0. 0. 0. 0. 0. 0. 0. 0. 0. 0. 0. 0. 0. 0. 0. 0. 0. 0.\n",
      " 0. 0. 0. 0. 0. 0. 0. 0. 0. 0. 0. 0. 0. 0. 0. 0. 0. 0. 0. 0. 0. 0. 0. 0.\n",
      " 0. 0. 0. 0. 0. 0. 0. 0. 0. 0. 0. 0. 0. 0. 0. 0. 0. 0. 0. 0. 0. 0. 0. 0.\n",
      " 0. 0. 0. 0. 0. 0. 0. 0. 0. 0. 1.]\n",
      "One decoded bar : [60, 129, 62, 129, 129, 129, 129, 129, 129, 129, 129, 129, 129, 129, 129, 129]\n"
     ]
    }
   ],
   "source": [
    "# one song file\n",
    "f = np.load(\"songs_encoder_inputs/id-0.npy\")\n",
    "\n",
    "print(\"Shape of first song file: \", f.shape)\n",
    "print(\"No. of slices: \", f.shape[0])\n",
    "print(\"Timesteps: \", f.shape[1])\n",
    "print(\"One encoded note: \", f[0][0])\n",
    "print(\"One decoded bar :\", one_hot_decode(f[31]))"
   ]
  },
  {
   "cell_type": "markdown",
   "metadata": {},
   "source": [
    "### Define function to get z-list from song"
   ]
  },
  {
   "cell_type": "code",
   "execution_count": null,
   "metadata": {},
   "outputs": [],
   "source": [
    "# generate target given source sequence\n",
    "def create_z_array(infenc, song, latent_dim):\n",
    "    z_list = []\n",
    "    \n",
    "    for bar in song:\n",
    "        \n",
    "        bar = bar.reshape(1, timesteps, cardinality)\n",
    "        \n",
    "        # encode\n",
    "        encoder_output = infenc.predict(bar)\n",
    "\n",
    "        z = encoder_output[2]\n",
    "        z = z.reshape(1, 1, latent_dim)\n",
    "        z_list.append(z)\n",
    "    \n",
    "    return np.array(z_list)"
   ]
  },
  {
   "cell_type": "markdown",
   "metadata": {},
   "source": [
    "### Create the z-dataset\n",
    "\n",
    "(This takes time)"
   ]
  },
  {
   "cell_type": "code",
   "execution_count": null,
   "metadata": {},
   "outputs": [
    {
     "name": "stderr",
     "output_type": "stream",
     "text": [
      "  0%|          | 4/9786 [00:08<5:31:21,  2.03s/it]/usr/local/lib/python3.5/dist-packages/tqdm/_monitor.py:89: TqdmSynchronisationWarning: Set changed size during iteration (see https://github.com/tqdm/tqdm/issues/481)\n",
      "  TqdmSynchronisationWarning)\n",
      "  6%|▌         | 609/9786 [16:49<4:13:25,  1.66s/it]"
     ]
    }
   ],
   "source": [
    "h5f = h5py.File('z_dataset.h5', 'w')\n",
    "\n",
    "for i in tqdm(range(file_count)):\n",
    "    \n",
    "    song_from_file = np.load(\"songs_encoder_inputs/id-\" + str(i) + \".npy\")\n",
    "    song_len = song_from_file.shape[0]\n",
    "    \n",
    "    # reshaping to work as input to lstm\n",
    "    song = np.array(song_from_file).reshape(song_len, timesteps, cardinality)\n",
    "    \n",
    "    # predicting list of z's\n",
    "    z_array = create_z_array(infenc, song, latent_dim)\n",
    "    \n",
    "    # appending list of z's to dataset\n",
    "    h5f.create_dataset(\"z_list\" + str(i), data=z_array)\n",
    "    \n",
    "h5f.close()"
   ]
  },
  {
   "cell_type": "markdown",
   "metadata": {},
   "source": [
    "### Slice the z's into the required sequence lenght for the MDN"
   ]
  },
  {
   "cell_type": "code",
   "execution_count": null,
   "metadata": {},
   "outputs": [],
   "source": []
  }
 ],
 "metadata": {
  "kernelspec": {
   "display_name": "Python 3",
   "language": "python",
   "name": "python3"
  },
  "language_info": {
   "codemirror_mode": {
    "name": "ipython",
    "version": 3
   },
   "file_extension": ".py",
   "mimetype": "text/x-python",
   "name": "python",
   "nbconvert_exporter": "python",
   "pygments_lexer": "ipython3",
   "version": "3.5.2"
  }
 },
 "nbformat": 4,
 "nbformat_minor": 2
}
