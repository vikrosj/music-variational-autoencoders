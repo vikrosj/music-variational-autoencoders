{
 "cells": [
  {
   "cell_type": "code",
   "execution_count": null,
   "metadata": {},
   "outputs": [],
   "source": [
    "from modules.models import define_VAE, define_MM\n",
    "from modules.variables import HDVariables\n",
    "from keras.utils import plot_model\n",
    "import h5py\n",
    "import numpy as np\n",
    "import keras"
   ]
  },
  {
   "cell_type": "code",
   "execution_count": null,
   "metadata": {},
   "outputs": [],
   "source": [
    "from modules.data_prep import VAEdataPrep"
   ]
  },
  {
   "cell_type": "markdown",
   "metadata": {},
   "source": [
    "### set variables\n",
    "\n",
    "variables are saved to disk in directory \"variables\", if not any other directory is specified by the user.\n",
    "This is to access variables easily when performing inference in a different notebook."
   ]
  },
  {
   "cell_type": "code",
   "execution_count": null,
   "metadata": {},
   "outputs": [],
   "source": [
    "hd_var = HDVariables()\n",
    "\n",
    "hd_var.timesteps = 16\n",
    "hd_var.features = 131\n",
    "hd_var.latent_units = 30\n",
    "\n",
    "hd_var.enc_units = 70\n",
    "hd_var.dec_units = 70\n",
    "hd_var.dropout = 0.1\n",
    "hd_var.beta = 2\n",
    "hd_var.learning_rate = 0.001\n",
    "hd_var.epsilon_std = 1.\n",
    "\n",
    "hd_var.mdn_seq_len = 10\n",
    "hd_var.mdn_hidden_units = 50\n",
    "hd_var.number_mixtures = 10\n",
    "\n",
    "hd_var.batch_size = 64"
   ]
  },
  {
   "cell_type": "markdown",
   "metadata": {},
   "source": [
    "### initialize VAE"
   ]
  },
  {
   "cell_type": "code",
   "execution_count": null,
   "metadata": {},
   "outputs": [],
   "source": [
    "vae_full, _, _ = define_VAE(enc_units= hd_var.enc_units,\n",
    "                            dec_units= hd_var.dec_units,\n",
    "                            latent_units= hd_var.latent_units,\n",
    "                            timesteps= hd_var.timesteps,\n",
    "                            features= hd_var.features,\n",
    "                            dropout= hd_var.dropout,\n",
    "                            beta= hd_var.beta,\n",
    "                            learning_rate= hd_var.learning_rate,\n",
    "                            epsilon_std= hd_var.epsilon_std)"
   ]
  },
  {
   "cell_type": "markdown",
   "metadata": {},
   "source": [
    "### Prepare the data (includes generator setup)\n",
    "The data must be converted from arrays of integers to sliced, one hot encoded vectors.  \n",
    "The encoded vectors are sliced according to the given 'timesteps' for one sequence.  \n",
    "  \n",
    "After being sliced, the vectors, hereby called 'bars', are saved as numpy arrays in directories with names that the user defines. Old directories with the same name will be deleted when calling the function. The user can check the progress with the option 'print_progress'.  \n",
    "'print_progress' can be a number for selecting how many times to print the progress, or it can be True / False to print all or nothing of the progress.  \n",
    "  \n",
    "Both functions skips songs that are above the average bar number of [113 bars](https://www.statcrunch.com/5.0/viewreport.php?groupid=948&reportid=28647), and songs below or equal to 1 bar. \n",
    "  \n",
    "### Define names for encoder and decoder input directories + fit_generator setup file"
   ]
  },
  {
   "cell_type": "code",
   "execution_count": null,
   "metadata": {},
   "outputs": [],
   "source": [
    "hd_var.encoder_dir = \"enc_in\"\n",
    "hd_var.decoder_dir = \"dec_in\"\n",
    "hd_var.encoder_dir_songs = \"song_enc_in\"\n",
    "\n",
    "hd_var.generator_IDs_file = \"datasets/id_lists/generator_IDs.npy\" # must be .npy\n",
    "\n",
    "hd_var.songs_ID_file = \"datasets/id_lists/song_IDs.npy\" # for inference, creates lookup table for all songs"
   ]
  },
  {
   "cell_type": "markdown",
   "metadata": {},
   "source": [
    "### Set correct dataset file"
   ]
  },
  {
   "cell_type": "code",
   "execution_count": null,
   "metadata": {},
   "outputs": [],
   "source": [
    "dataset_file = \"datasets/test_dataset.npy\"\n",
    "vae_data_prep = VAEdataPrep(timesteps = hd_var.timesteps,\n",
    "                            features = hd_var.features)"
   ]
  },
  {
   "cell_type": "code",
   "execution_count": null,
   "metadata": {},
   "outputs": [],
   "source": [
    "vae_data_prep.create_bars_dir(encoder_directory= hd_var.encoder_dir,\n",
    "                            decoder_directory= hd_var.decoder_dir,\n",
    "                            dataset_file= dataset_file,\n",
    "                            generator_IDs_file= hd_var.generator_IDs_file,\n",
    "                            print_progress= True)"
   ]
  },
  {
   "cell_type": "code",
   "execution_count": null,
   "metadata": {},
   "outputs": [],
   "source": [
    "vae_data_prep.create_songs_dir(encoder_directory= hd_var.encoder_dir_songs,\n",
    "                            inference_ID_file = hd_var.songs_ID_file,\n",
    "                            dataset_file= dataset_file,\n",
    "                            print_progress=True)"
   ]
  },
  {
   "cell_type": "markdown",
   "metadata": {},
   "source": [
    "### setup GPU (voluntary)"
   ]
  },
  {
   "cell_type": "code",
   "execution_count": null,
   "metadata": {},
   "outputs": [],
   "source": [
    "import os\n",
    "import tensorflow as tf\n",
    "import keras.backend as K\n",
    "\n",
    "# Only for GPU use:\n",
    "os.environ[\"CUDA_VISIBLE_DEVICES\"]=\"1\"\n",
    "config = tf.ConfigProto()\n",
    "config.gpu_options.allow_growth = True\n",
    "sess = tf.Session(config=config)\n",
    "K.set_session(sess)"
   ]
  },
  {
   "cell_type": "markdown",
   "metadata": {},
   "source": [
    "### setup the generator"
   ]
  },
  {
   "cell_type": "code",
   "execution_count": null,
   "metadata": {},
   "outputs": [],
   "source": [
    "from modules.generators import VAEDataGenerator\n",
    "\n",
    "# Parameters\n",
    "params = {'dim': (hd_var.timesteps, hd_var.features),\n",
    "          'enc_dir' : hd_var.encoder_dir,\n",
    "          'dec_dir' : hd_var.decoder_dir,\n",
    "          'batch_size': hd_var.batch_size,\n",
    "          'shuffle': True}\n",
    "\n",
    "ID_list_dict = {}\n",
    "\n",
    "# Datasets\n",
    "ID_list = np.load(hd_var.generator_IDs_file)\n",
    "ID_list_dict[\"train\"] = ID_list.item().get(\"train\")\n",
    "ID_list_dict[\"validation\"] = ID_list.item().get(\"validation\")\n",
    "\n",
    "# Generators\n",
    "training_generator = VAEDataGenerator(ID_list_dict['train'], **params)\n",
    "validation_generator = VAEDataGenerator(ID_list_dict['validation'], **params)"
   ]
  },
  {
   "cell_type": "markdown",
   "metadata": {},
   "source": [
    "# Train VAE"
   ]
  },
  {
   "cell_type": "code",
   "execution_count": null,
   "metadata": {},
   "outputs": [],
   "source": [
    "from keras.callbacks import ModelCheckpoint,TensorBoard\n",
    "from keras.callbacks import Callback\n",
    "\n",
    "tb_dir = \"tb\"\n",
    "filepath=\"weights/test_run-{epoch:02d}-{val_acc:.2f}.hdf5\"\n",
    "\n",
    "tensorboard = TensorBoard(log_dir = tb_dir, batch_size = hd_var.batch_size)\n",
    "checkpoint = ModelCheckpoint(filepath, monitor='val_loss', verbose=1, save_best_only=True, mode='min')\n",
    "callbacks_list = [checkpoint, tensorboard]\n",
    "\n",
    "\n",
    "epochs = 1\n",
    "num_training_samples = 10000\n",
    "num_validation_samples = 1500\n",
    "steps_per_epoch = num_training_samples // hd_var.batch_size\n",
    "validation_steps = num_validation_samples // hd_var.batch_size\n",
    "\n",
    "\n",
    "# Train model on dataset\n",
    "vae_full.fit_generator(generator = training_generator,\n",
    "                    validation_data = validation_generator,\n",
    "                    steps_per_epoch = steps_per_epoch,\n",
    "                    validation_steps = validation_steps,\n",
    "                    use_multiprocessing = False,\n",
    "                    epochs = epochs,\n",
    "                    verbose = 2,\n",
    "                    callbacks = callbacks_list)"
   ]
  },
  {
   "cell_type": "markdown",
   "metadata": {},
   "source": [
    "# Create mixture model inputs\n",
    "\n",
    "Initialize VAE encoder, and set the path for the best weights from the previous training. The encoder weights from this set of weights will be set to the encoder.  \n",
    "  \n",
    "To create mixture model inputs, all songs from directory of songs (created earlier) will be processed by the encoder, producing a latent vector (z) for each bar. All songs saved as sequences of z's.   \n",
    "\n",
    "<img src=\"imgs/project_info/full_model.png\">\n",
    "\n",
    "<br>\n",
    "<br>\n",
    "\n",
    "<img src=\"imgs/project_info/z_creation.png\">"
   ]
  },
  {
   "cell_type": "markdown",
   "metadata": {},
   "source": [
    "### Set path for the best VAE weights"
   ]
  },
  {
   "cell_type": "code",
   "execution_count": null,
   "metadata": {},
   "outputs": [],
   "source": [
    "vae_weights_path = \"weights/\" + \"test_run-99-0.80.hdf5\""
   ]
  },
  {
   "cell_type": "code",
   "execution_count": null,
   "metadata": {},
   "outputs": [],
   "source": [
    "# VAE encoder\n",
    "_, vae_enc, _ = define_VAE(enc_units = hd_var.enc_units,\n",
    "                        dec_units = hd_var.dec_units,\n",
    "                        latent_units = hd_var.latent_units,\n",
    "                        timesteps = hd_var.timesteps,\n",
    "                        features = hd_var.features,\n",
    "                        dropout = hd_var.dropout,\n",
    "                        beta = hd_var.beta,\n",
    "                        learning_rate = hd_var.learning_rate,\n",
    "                        epsilon_std = hd_var.epsilon_std)\n",
    "\n",
    "vae_full.load_weights(vae_weights_path)\n",
    "print(\"Loaded VAE weights from disk\")\n",
    "\n",
    "# get all weights\n",
    "all_weights = vae_full.get_weights()\n",
    "\n",
    "# find encoder weights position\n",
    "decoder_position = len(vae_enc.get_weights())\n",
    "encoder_weights = all_weights[:decoder_position]\n",
    "\n",
    "# set encoder weights\n",
    "vae_enc.set_weights(encoder_weights)\n",
    "print(\"Set VAE weights\")"
   ]
  },
  {
   "cell_type": "markdown",
   "metadata": {},
   "source": [
    "### Define name for z-dataset file\n",
    "\n",
    "Prefereably put the z-dataset file in the folder *datasets*.  "
   ]
  },
  {
   "cell_type": "code",
   "execution_count": null,
   "metadata": {},
   "outputs": [],
   "source": [
    "z_dataset_file = \"datasets/z_dataset.h5\""
   ]
  },
  {
   "cell_type": "markdown",
   "metadata": {},
   "source": [
    "After defining a name for the file, run the 'create_mm_data' from the MDNdataPrep module.  \n",
    "  \n",
    "The function show a progress bar, which usually gets a SynchronisationWarning, this doesn't cause a problem for the z-creation."
   ]
  },
  {
   "cell_type": "code",
   "execution_count": null,
   "metadata": {},
   "outputs": [],
   "source": [
    "from modules.data_prep import MDNdataPrep\n",
    "\n",
    "mdn_data_prep = MDNdataPrep(timesteps = hd_var.timesteps,\n",
    "                            features = hd_var.features,\n",
    "                            z_dim = hd_var.latent_units,\n",
    "                            z_dataset_file = z_dataset_file)"
   ]
  },
  {
   "cell_type": "code",
   "execution_count": null,
   "metadata": {},
   "outputs": [],
   "source": [
    "mdn_data_prep.create_mm_data(vae_enc=vae_enc, encoder_dir_songs= hd_var.encoder_dir_songs)"
   ]
  },
  {
   "cell_type": "markdown",
   "metadata": {},
   "source": [
    "### Define name for sliced z-dataset file, generator-IDs file and MDN sequence length"
   ]
  },
  {
   "cell_type": "code",
   "execution_count": null,
   "metadata": {},
   "outputs": [],
   "source": [
    "hd_var.sliced_z_dataset_file = \"datasets/sliced_z_dataset.h5\"\n",
    "MDNgenerator_IDs_file = \"datasets/mdn_generator_IDs.npy\" #must be numpy\n",
    "hd_var.mdn_seq_len = 10"
   ]
  },
  {
   "cell_type": "code",
   "execution_count": null,
   "metadata": {},
   "outputs": [],
   "source": [
    "mdn_data_prep.slice_z_data_for_mdn(hd_var.sliced_z_dataset_file,\n",
    "                                   hd_var.MDNgenerator_IDs_file,\n",
    "                                   hd_var.mdn_seq_len)"
   ]
  },
  {
   "cell_type": "markdown",
   "metadata": {},
   "source": [
    "### check data, if you'd like"
   ]
  },
  {
   "cell_type": "code",
   "execution_count": null,
   "metadata": {},
   "outputs": [],
   "source": [
    "import h5py\n",
    "hf_mdn = h5py.File(hd_var.sliced_z_dataset_file, 'r')\n",
    "\n",
    "print(\"Number of sliced z's: \", len(list(hf_mdn.keys()))/2)\n",
    "print(\"Is the first time step of y the same as the second time step of x? \\n\" ,\\\n",
    "      list(hf_mdn.get(\"z_x_id-1\"))[1] == list(hf_mdn.get(\"z_y_id-1\"))[0])\n",
    "\n",
    "hf_mdn.close()"
   ]
  },
  {
   "cell_type": "markdown",
   "metadata": {},
   "source": [
    "### define MDN hidden units and number of mixtures"
   ]
  },
  {
   "cell_type": "code",
   "execution_count": null,
   "metadata": {},
   "outputs": [],
   "source": [
    "hd_var.mdn_hidden_units = 50\n",
    "hd_var.number_mixtures = 10"
   ]
  },
  {
   "cell_type": "markdown",
   "metadata": {},
   "source": [
    "### initalize the trainable MDN\n",
    "\n",
    "the function returns a MDN for inference also"
   ]
  },
  {
   "cell_type": "code",
   "execution_count": null,
   "metadata": {},
   "outputs": [],
   "source": [
    "mm_full, _ = define_MM(seq_len = hd_var.mdn_seq_len,\n",
    "                    vae_latent_units = hd_var.latent_units,\n",
    "                    hidden_units = hd_var.mdn_hidden_units,\n",
    "                    number_mixtures = hd_var.number_mixtures)"
   ]
  },
  {
   "cell_type": "markdown",
   "metadata": {},
   "source": [
    "### setup the MDN generator"
   ]
  },
  {
   "cell_type": "code",
   "execution_count": null,
   "metadata": {},
   "outputs": [],
   "source": [
    "from modules.generators import MDNDataGenerator\n",
    "\n",
    "batch_size = 64\n",
    "\n",
    "params = {'dim': (hd_var.mdn_seq_len, hd_var.latent_units),\n",
    "          'batch_size': hd_var.batch_size,\n",
    "          'dataset_path': hd_var.sliced_z_dataset_file,\n",
    "          'shuffle': True}\n",
    "\n",
    "ID_list_dict = {}\n",
    "ID_list = np.load(MDNgenerator_IDs_file)\n",
    "\n",
    "ID_list_dict[\"train\"] = ID_list.item().get(\"train\")\n",
    "ID_list_dict[\"validation\"] = ID_list.item().get(\"validation\")\n",
    "\n",
    "# Generators\n",
    "training_generator = MDNDataGenerator(ID_list_dict['train'], **params)\n",
    "validation_generator = MDNDataGenerator(ID_list_dict['validation'], **params)"
   ]
  },
  {
   "cell_type": "markdown",
   "metadata": {},
   "source": [
    "# Train MDN"
   ]
  },
  {
   "cell_type": "code",
   "execution_count": null,
   "metadata": {},
   "outputs": [],
   "source": [
    "epochs = 1\n",
    "tb_log_dir = \"tb/mdn\"\n",
    "\n",
    "num_training_samples = 10000\n",
    "num_validation_samples = 1000\n",
    "steps_per_epoch = int(num_training_samples / batch_size)\n",
    "validation_steps = int(num_validation_samples / batch_size)\n",
    "\n",
    "# Train model on dataset\n",
    "filepath=\"weights/mdn_test_run-{epoch:02d}-{val_loss:.2f}.hdf5\"\n",
    "checkpoint = keras.callbacks.ModelCheckpoint(filepath, monitor='val_loss', verbose=1, save_best_only=True, mode='min')\n",
    "tensorboard = keras.callbacks.TensorBoard(log_dir=tb_log_dir, batch_size=batch_size)\n",
    "\n",
    "history = mm_full.fit_generator(generator=training_generator,\n",
    "                    validation_data=validation_generator,\n",
    "                    steps_per_epoch=steps_per_epoch,\n",
    "                    validation_steps=validation_steps,\n",
    "                    use_multiprocessing=False,\n",
    "                    epochs=epochs,verbose=2,callbacks=[keras.callbacks.TerminateOnNaN(),\n",
    "                                                       checkpoint,\n",
    "                                                       tensorboard])"
   ]
  },
  {
   "cell_type": "code",
   "execution_count": null,
   "metadata": {},
   "outputs": [],
   "source": []
  }
 ],
 "metadata": {
  "kernelspec": {
   "display_name": "Python 3",
   "language": "python",
   "name": "python3"
  },
  "language_info": {
   "codemirror_mode": {
    "name": "ipython",
    "version": 3
   },
   "file_extension": ".py",
   "mimetype": "text/x-python",
   "name": "python",
   "nbconvert_exporter": "python",
   "pygments_lexer": "ipython3",
   "version": "3.5.2"
  }
 },
 "nbformat": 4,
 "nbformat_minor": 2
}
