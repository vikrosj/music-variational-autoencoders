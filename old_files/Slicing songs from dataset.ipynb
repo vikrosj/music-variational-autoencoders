{
 "cells": [
  {
   "cell_type": "code",
   "execution_count": 1,
   "metadata": {},
   "outputs": [],
   "source": [
    "import numpy as np\n",
    "from data_prep import get_songs_dataset\n",
    "\n",
    "np.set_printoptions(threshold=10e6)\n",
    "\n",
    "no_of_dataset_sections = 9\n",
    "timesteps = 16"
   ]
  },
  {
   "cell_type": "code",
   "execution_count": 2,
   "metadata": {},
   "outputs": [],
   "source": [
    "data = np.load(\"pop_midi_dataset.npz\")"
   ]
  },
  {
   "cell_type": "code",
   "execution_count": 3,
   "metadata": {},
   "outputs": [],
   "source": [
    "counter = 0\n",
    "\n",
    "for i in range(no_of_dataset_sections):\n",
    "    dataset = data[\"train_\" + str(i)]\n",
    "    no_of_songs = len(data[\"train_\" + str(i)])\n",
    "    \n",
    "    sliced_songs = get_songs_dataset(dataset, timesteps)\n",
    "    \n",
    "    for j in range(sliced_songs.shape[0]):\n",
    "        np.save(\"songs_encoder_inputs/id-\" + str(counter) + \".npy\" , sliced_songs[j])\n",
    "        counter += 1"
   ]
  }
 ],
 "metadata": {
  "kernelspec": {
   "display_name": "Python 3",
   "language": "python",
   "name": "python3"
  },
  "language_info": {
   "codemirror_mode": {
    "name": "ipython",
    "version": 3
   },
   "file_extension": ".py",
   "mimetype": "text/x-python",
   "name": "python",
   "nbconvert_exporter": "python",
   "pygments_lexer": "ipython3",
   "version": "3.5.2"
  }
 },
 "nbformat": 4,
 "nbformat_minor": 2
}
