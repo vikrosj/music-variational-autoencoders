{
 "cells": [
  {
   "cell_type": "code",
   "execution_count": 5,
   "metadata": {},
   "outputs": [],
   "source": [
    "import numpy as np\n",
    "import os\n",
    "import matplotlib.pyplot as plt"
   ]
  },
  {
   "cell_type": "markdown",
   "metadata": {},
   "source": [
    "## Notice \n",
    "\n",
    "An [average song length](url=https://www.statcrunch.com/5.0/viewreport.php?groupid=948&reportid=28647) is 226 seconds.  \n",
    "  \n",
    "The [average bpm](url=https://learningmusic.ableton.com/make-beats/tempo-and-genre.html) for a song is 120. \n",
    "\n",
    "The [semiquaver length](url=http://bradthemad.org/guitar/tempo_explanation.php) is 15 / bpm.  \n",
    "  \n",
    "15 / 120 = 0.125 seconds per semiquaver  \n",
    "0.125 * 16 notes per vector = 2 seconds per bar   \n",
    "226 / 2 = 113 bars per song. \n",
    "\n",
    "Therefore, any song above (113 * 16) 1808 is a song thats above average song length.  \n",
    "During anaylisis of the dataset, some songs were discovered that were over 80k bars long. These will create noise in the data.  \n",
    "But, the songs does not all have to be exactly on average. As not to narrow the dataset down too much, any song below 2 * 1808 is accepted.  \n",
    "Short songs is not a problem for sequence learning. But, a song less than two bars is considered too short.  \n",
    "Therefore, songs below size 32 is discarded."
   ]
  },
  {
   "cell_type": "code",
   "execution_count": 2,
   "metadata": {},
   "outputs": [
    {
     "name": "stdout",
     "output_type": "stream",
     "text": [
      "192 files didn't make the cut, but 9786 files did\n"
     ]
    }
   ],
   "source": [
    "max_song_len = int(2 * 16 * 113)\n",
    "min_song_len = int(2 * 16)\n",
    "\n",
    "counter = 0\n",
    "midi_files = []\n",
    "\n",
    "for root, dirs, files in os.walk(\"parsed_midi_files\"):\n",
    "    for file in files:\n",
    "        if file.endswith(\".npy\"):\n",
    "            melody = np.load(\"parsed_midi_files/\" + file)\n",
    "            \n",
    "            if (len(melody) < max_song_len) and \\\n",
    "            (len(melody) > min_song_len):\n",
    "                midi_files.append(melody)\n",
    "            \n",
    "            else: counter += 1\n",
    "\n",
    "print(\"{} files didn't make the cut, but {} files did\".format(counter,len(midi_files)))"
   ]
  },
  {
   "cell_type": "markdown",
   "metadata": {},
   "source": [
    "#### This must be done manually"
   ]
  },
  {
   "cell_type": "code",
   "execution_count": 3,
   "metadata": {},
   "outputs": [],
   "source": [
    "np.savez(\"pop_midi_dataset.npz\", \n",
    "         train_0=midi_files[0:1000], \n",
    "         train_1=midi_files[1000:2000], \n",
    "         train_2=midi_files[2000:3000],\n",
    "         train_3=midi_files[3000:4000],\n",
    "         train_4=midi_files[4000:5000],\n",
    "         train_5=midi_files[5000:6000],\n",
    "         train_6=midi_files[6000:7000],\n",
    "         train_7=midi_files[7000:8000],\n",
    "         train_8=midi_files[8000:len(midi_files)])"
   ]
  },
  {
   "cell_type": "markdown",
   "metadata": {},
   "source": [
    "## Evaluating data"
   ]
  },
  {
   "cell_type": "code",
   "execution_count": 11,
   "metadata": {},
   "outputs": [
    {
     "data": {
      "image/png": "[encoded data removed]",
      "text/plain": [
       "<Figure size 432x288 with 1 Axes>"
      ]
     },
     "metadata": {
      "needs_background": "light"
     },
     "output_type": "display_data"
    }
   ],
   "source": [
    "song_lengths = [len(x) for x in midi_files]\n",
    "\n",
    "plt.hist(song_lengths,bins=100) \n",
    "plt.title(\"Histogram of song lengths.\")\n",
    "plt.ylabel(\"No. of items\")\n",
    "plt.xlabel(\"Song length\")\n",
    "plt.xlim(min(song_lengths),max(song_lengths))\n",
    "plt.show()"
   ]
  }
 ],
 "metadata": {
  "kernelspec": {
   "display_name": "Python 3",
   "language": "python",
   "name": "python3"
  },
  "language_info": {
   "codemirror_mode": {
    "name": "ipython",
    "version": 3
   },
   "file_extension": ".py",
   "mimetype": "text/x-python",
   "name": "python",
   "nbconvert_exporter": "python",
   "pygments_lexer": "ipython3",
   "version": "3.5.2"
  }
 },
 "nbformat": 4,
 "nbformat_minor": 2
}
