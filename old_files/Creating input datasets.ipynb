{
 "cells": [
  {
   "cell_type": "code",
   "execution_count": null,
   "metadata": {},
   "outputs": [],
   "source": [
    "from data_prep import get_bars_dataset, one_hot_decode, get_songs_dataset\n",
    "import numpy as np"
   ]
  },
  {
   "cell_type": "code",
   "execution_count": null,
   "metadata": {},
   "outputs": [],
   "source": [
    "# Variables\n",
    "timesteps = 16\n",
    "data = np.load(\"pop_midi_dataset.npz\")"
   ]
  },
  {
   "cell_type": "markdown",
   "metadata": {},
   "source": [
    "### Bars"
   ]
  },
  {
   "cell_type": "code",
   "execution_count": null,
   "metadata": {},
   "outputs": [],
   "source": [
    "pointer = 0\n",
    "\n",
    "for i in range(9):\n",
    "    \n",
    "    dataset = data[\"train_\" + str(i)]\n",
    "    encoder_inputs, decoder_inputs = get_bars_dataset(dataset, timesteps)\n",
    "    \n",
    "    print(encoder_inputs.shape, \n",
    "          decoder_inputs.shape, \n",
    "          one_hot_decode(encoder_inputs[0]), \n",
    "          one_hot_decode(decoder_inputs[0]),\n",
    "         \"pointer:\", pointer)\n",
    "    \n",
    "    # Saving encoder and decoder inputs in separate folders with same name\n",
    "    for i in range(encoder_inputs.shape[0]):\n",
    "        encoder_filename = \"encoder_inputs/\" + \"id-\" + str(pointer) + \".npy\"\n",
    "        decoder_filename = \"decoder_inputs/\" + \"id-\" + str(pointer) + \".npy\"\n",
    "        np.save(encoder_filename, encoder_inputs[i])\n",
    "        np.save(decoder_filename, decoder_inputs[i])        \n",
    "        pointer += 1"
   ]
  },
  {
   "cell_type": "markdown",
   "metadata": {},
   "source": [
    "### Songs"
   ]
  },
  {
   "cell_type": "code",
   "execution_count": null,
   "metadata": {},
   "outputs": [],
   "source": [
    "pointer = 0\n",
    "\n",
    "for i in range(9):\n",
    "    \n",
    "    dataset = data[\"train_\" + str(i)]\n",
    "    encoder_inputs = get_songs_dataset(dataset, timesteps)\n",
    "    \n",
    "    print(encoder_inputs.shape, \n",
    "          one_hot_decode(encoder_inputs[0]), \n",
    "         \"pointer:\", pointer)\n",
    "    \n",
    "    # Saving just encoder inputs\n",
    "    for i in range(encoder_inputs.shape[0]):\n",
    "        encoder_filename = \"songs_encoder_inputs/\" + \"id-\" + str(pointer) + \".npy\"\n",
    "        np.save(encoder_filename, encoder_inputs[i])\n",
    "        \n",
    "        pointer += 1"
   ]
  }
 ],
 "metadata": {
  "kernelspec": {
   "display_name": "Python 3",
   "language": "python",
   "name": "python3"
  },
  "language_info": {
   "codemirror_mode": {
    "name": "ipython",
    "version": 3
   },
   "file_extension": ".py",
   "mimetype": "text/x-python",
   "name": "python",
   "nbconvert_exporter": "python",
   "pygments_lexer": "ipython3",
   "version": "3.5.2"
  }
 },
 "nbformat": 4,
 "nbformat_minor": 2
}
